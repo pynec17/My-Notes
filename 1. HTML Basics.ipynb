{
 "cells": [
  {
   "cell_type": "markdown",
   "metadata": {},
   "source": [
    "# Headings"
   ]
  },
  {
   "cell_type": "markdown",
   "metadata": {},
   "source": [
    "```html\n",
    "<h1> - Main headings\n",
    "<h2> - Subheadings\n",
    "<h3>-<h6> - Different levels of subheading\n",
    "<p> - Paragragh tab`\n",
    "```"
   ]
  },
  {
   "cell_type": "markdown",
   "metadata": {},
   "source": [
    "# DOCTYPE"
   ]
  },
  {
   "cell_type": "markdown",
   "metadata": {},
   "source": [
    "Declares the version of HTML the page is using at the top of the page\n",
    "```html\n",
    "<!DOCTYPE html>\n",
    "```"
   ]
  },
  {
   "cell_type": "markdown",
   "metadata": {},
   "source": [
    "Rest of the page needs to be wrapped in `<html>` tags"
   ]
  },
  {
   "cell_type": "markdown",
   "metadata": {},
   "source": [
    "Can also use <head> and <body> tags for more organisation\n",
    "Head tag - Contains information about the page (e.g. link, meta, title, style)\n",
    "```html\n",
    "    <head></head>\n",
    "```\n",
    "Body tag - Contains page content\n",
    "```html\n",
    "    <body></body>\n",
    "```\n",
    "Title tag - Title that appears in address bar/browser tab\n",
    "```html\n",
    "    <title></title>\n",
    "```"
   ]
  },
  {
   "cell_type": "markdown",
   "metadata": {},
   "source": [
    "Typical HTML page setup:\n",
    "\n",
    "```html\n",
    "<!DOCTYPE html>\n",
    "<html>\n",
    "    <head>\n",
    "        <title></title>\n",
    "    </head>\n",
    "    <body>\n",
    "        content\n",
    "        content\n",
    "        content\n",
    "    </body>\n",
    "</html>\n",
    "```"
   ]
  },
  {
   "cell_type": "markdown",
   "metadata": {},
   "source": [
    "# HTML5 Elements"
   ]
  },
  {
   "cell_type": "markdown",
   "metadata": {},
   "source": [
    "```html\n",
    "<main>\n",
    "<header>\n",
    "<footer>\n",
    "<nav>\n",
    "<video>\n",
    "<article>\n",
    "<section>\n",
    "```\n",
    "Tags helps search engines and devs find main content on page."
   ]
  },
  {
   "cell_type": "markdown",
   "metadata": {},
   "source": [
    "# Images"
   ]
  },
  {
   "cell_type": "markdown",
   "metadata": {},
   "source": [
    "```html\n",
    "<img> - Add image to page. Self-closing tag.\n",
    "<img src='URL to image'>\n",
    "```"
   ]
  },
  {
   "cell_type": "markdown",
   "metadata": {},
   "source": [
    "All images must have alt attribute - for when picture fails to load\n",
    "```html\n",
    "<img src='URL' alt='A picture of something'>\n",
    "```"
   ]
  },
  {
   "cell_type": "markdown",
   "metadata": {},
   "source": [
    "# Links"
   ]
  },
  {
   "cell_type": "markdown",
   "metadata": {},
   "source": [
    "## Outside of the page"
   ]
  },
  {
   "cell_type": "markdown",
   "metadata": {},
   "source": [
    "```html\n",
    "<a> - Anchor tag - links to content outside of page\n",
    "<a> elements need a href attribute AND anchor text\n",
    "e.g.\n",
    "<a href='https://www.google.co.uk/'>This link goes to google </a>\n",
    "```"
   ]
  },
  {
   "cell_type": "markdown",
   "metadata": {},
   "source": [
    "<h3>Inside the page</h3>"
   ]
  },
  {
   "cell_type": "markdown",
   "metadata": {},
   "source": [
    "To create internal link, assign href to hash symbol plus the 'id' attribute of the element\n",
    "e.g.\n",
    "```html\n",
    "<a href='#contacts'>Contacts</a>\n",
    "<h2 id='contacts'>Contacts</h2>\n",
    "```\n",
    "\n",
    "Target - Anchor tag attribute that specifies where to open link\n",
    "e.g.\n",
    "```html\n",
    "<a href='https://www.google.co.uk/' target='_blank'> Google </a>\n",
    "```\n",
    "\n",
    "The target value of `\"_blank\"` opens link in new tab\n",
    "\n",
    "`href='#'`  Can be used as a placeholder link\n",
    "\n",
    "Nest an element within an a tag to turn it into a link e.g.\n",
    "```html\n",
    "<a><img src='www.google.co.uk'><a>\n",
    "```"
   ]
  },
  {
   "cell_type": "markdown",
   "metadata": {},
   "source": [
    "# Lists"
   ]
  },
  {
   "cell_type": "markdown",
   "metadata": {},
   "source": [
    "```html\n",
    "<ul> - Unordered list (Bullet points)\n",
    "    <li> - List item\n",
    "        \n",
    "<ol> - Ordered list (numbers)\n",
    "    <li> - List item\n",
    "```"
   ]
  },
  {
   "cell_type": "markdown",
   "metadata": {},
   "source": [
    "# Inputs"
   ]
  },
  {
   "cell_type": "markdown",
   "metadata": {},
   "source": [
    "Box that gets input from user. Self-Closing.\n",
    "```html\n",
    "<input type='text'>\n",
    "```\n",
    "Placeholder attribute - Placeholder text in box\n",
    "```html\n",
    "<input type='text' placeholder='this is placeholder text'>\n",
    "```"
   ]
  },
  {
   "cell_type": "markdown",
   "metadata": {},
   "source": [
    "# Forms"
   ]
  },
  {
   "cell_type": "markdown",
   "metadata": {},
   "source": [
    "Form tag - Creates a web form that submits data to server\n",
    "```html\n",
    "<form>\n",
    "```\n",
    "Action attribute - Specifies what to do with input\n",
    "```html\n",
    "<form action='/url-for-data'>\n",
    "```\n",
    "Creates submit button for form\n",
    "```html\n",
    "<button type='submit'></button> - Creates button for form\n",
    "```\n",
    "\n",
    "Required attribute - makes an input field required\n",
    "```html\n",
    "<input type='text' required>\n",
    "```\n",
    "\n",
    "Example form\n",
    "```html\n",
    "<form action='/url-for-data'>\n",
    "    <input type='text'>\n",
    "    <button type='submit'> This button submits the form</button>\n",
    "</form>\n",
    "```"
   ]
  },
  {
   "cell_type": "markdown",
   "metadata": {},
   "source": [
    "# Radio Buttons"
   ]
  },
  {
   "cell_type": "markdown",
   "metadata": {},
   "source": [
    "Radio buttons are another type of input - each button can be nested within a label element to associate the button with the label\n",
    "\n",
    "All related radio buttons should have same name attribute to group them together"
   ]
  },
  {
   "cell_type": "markdown",
   "metadata": {},
   "source": [
    "```html\n",
    "<input type='radio'>\n",
    "```"
   ]
  },
  {
   "cell_type": "markdown",
   "metadata": {},
   "source": [
    "```html\n",
    "<label>\n",
    "    <input type='radio' name='radio-group'>The First Option\n",
    "</label>\n",
    "<label>\n",
    "    <input type='radio' name='radio-group'>The Second Option\n",
    "</label>\n",
    "```"
   ]
  },
  {
   "cell_type": "markdown",
   "metadata": {},
   "source": [
    "Labels should have a 'for' attribute which matches the 'id' attribute of the input. This allows technologies to link the two together\n",
    "e.g.\n",
    "```html\n",
    "<label for='indoor'>\n",
    "    <input id='indoor' type='radio' name='radio-group'> Option 1\n",
    "</label>\n",
    "```"
   ]
  },
  {
   "cell_type": "markdown",
   "metadata": {},
   "source": [
    "# Checkboxes"
   ]
  },
  {
   "cell_type": "markdown",
   "metadata": {},
   "source": [
    "Each button can be nested within a label element to associate the button with the label. All related radio buttons should have same name attribute to group them together."
   ]
  },
  {
   "cell_type": "markdown",
   "metadata": {},
   "source": [
    "```html\n",
    "<input type='checkbox'>\n",
    "```"
   ]
  },
  {
   "cell_type": "markdown",
   "metadata": {},
   "source": [
    "```html\n",
    "<label>\n",
    "    <input type='checkbox' name='radio-group'>Radio option one\n",
    "</label>\n",
    "<label>\n",
    "    <input type='checkbox' name='radio-group'>Radio option two\n",
    "</label>\n",
    "```"
   ]
  },
  {
   "cell_type": "markdown",
   "metadata": {},
   "source": [
    "Labels should have a 'for' attribute which matches the 'id' attribute of the input. This allows technologies to link the two together\n",
    "E.g.\n",
    "```html\n",
    "<label FOR>\n",
    "    <input ID> BUTTON TEXT\n",
    "</label>\n",
    "```"
   ]
  },
  {
   "cell_type": "markdown",
   "metadata": {},
   "source": [
    "<h3>Forms continued</h3>"
   ]
  },
  {
   "cell_type": "markdown",
   "metadata": {},
   "source": [
    "Inputs have 'value' attributes so it can be reported to the server.\n",
    "Data is submitted to server as name=value where name is name of radio group and value is the option chosen"
   ]
  },
  {
   "cell_type": "markdown",
   "metadata": {},
   "source": [
    "```html\n",
    "<label>\n",
    "    <input type='checkbox' name='radio-group' value='Option1'>Option 1\n",
    "</label>\n",
    "<label>\n",
    "    <input type='checkbox' name='radio-group' value='Option 2'>Option 2\n",
    "</label>\n",
    "```"
   ]
  },
  {
   "cell_type": "markdown",
   "metadata": {},
   "source": [
    "Can set a checkbox/radio button to be checked by default by adding 'checked' to input element\n",
    "```html\n",
    "<input type='radio' checked>\n",
    "```"
   ]
  }
 ],
 "metadata": {
  "kernelspec": {
   "display_name": "Python 3",
   "language": "python",
   "name": "python3"
  },
  "language_info": {
   "codemirror_mode": {
    "name": "ipython",
    "version": 3
   },
   "file_extension": ".py",
   "mimetype": "text/x-python",
   "name": "python",
   "nbconvert_exporter": "python",
   "pygments_lexer": "ipython3",
   "version": "3.8.2"
  }
 },
 "nbformat": 4,
 "nbformat_minor": 4
}
