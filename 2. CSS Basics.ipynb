{
 "cells": [
  {
   "cell_type": "markdown",
   "metadata": {},
   "source": [
    "<h3>Intro</h3>"
   ]
  },
  {
   "cell_type": "markdown",
   "metadata": {},
   "source": [
    "**3 ways** to apply CSS:\n",
    "\n",
    "1. Apply **inline** styles directly to HTML elements with style attribute\n",
    "- Place CSS rules within **style tags** in HTML doc\n",
    "- Write CSS rules in **external sheet** and then reference file in HTML doc"
   ]
  },
  {
   "cell_type": "markdown",
   "metadata": {},
   "source": [
    "The idea behind CSS is that you can use a selector to target a HTML element in the DOM and then apply atributes to that element"
   ]
  },
  {
   "cell_type": "markdown",
   "metadata": {},
   "source": [
    "## Changing text colour (inline)"
   ]
  },
  {
   "cell_type": "markdown",
   "metadata": {},
   "source": [
    "Use the 'color' stype property to change colour of element's text\n",
    "```html\n",
    "<h2 style='color: blue;'>Some blue text</h2>\n",
    "```"
   ]
  },
  {
   "cell_type": "markdown",
   "metadata": {},
   "source": [
    "Good practice to end inline style declarations with semicolon"
   ]
  },
  {
   "cell_type": "markdown",
   "metadata": {},
   "source": [
    "## Style Blocks"
   ]
  },
  {
   "cell_type": "markdown",
   "metadata": {},
   "source": [
    "Instead of inline styling, make a style block at start of code.\n",
    "Inside block, create a CSS selector for all h2 elements\n",
    "```html\n",
    "<style>\n",
    "    h2 {\n",
    "        color:blue;\n",
    "    }\n",
    "</style>\n",
    "```"
   ]
  },
  {
   "cell_type": "markdown",
   "metadata": {},
   "source": [
    "## Classes"
   ]
  },
  {
   "cell_type": "markdown",
   "metadata": {},
   "source": [
    "Classes are reusable styles that can be added to HTML elements\n",
    "\n",
    "Below is a class called blue-text in the style block:\n",
    "\n",
    "```html\n",
    "<style>\n",
    "    .blue-text {\n",
    "        color: blue;\n",
    "    }\n",
    "</style>\n",
    "```\n",
    "Class names start with a full stop when being created."
   ]
  },
  {
   "cell_type": "markdown",
   "metadata": {},
   "source": [
    "Classes are applied inline like this:"
   ]
  },
  {
   "cell_type": "markdown",
   "metadata": {},
   "source": [
    "```html\n",
    "<h2 class='blue-text'>Photo</h2>\n",
    "```"
   ]
  },
  {
   "cell_type": "markdown",
   "metadata": {},
   "source": [
    "Apply several classes to element by using a space:"
   ]
  },
  {
   "cell_type": "markdown",
   "metadata": {},
   "source": [
    "```html\n",
    "<h2 class='blue-text thick-green-border'>\n",
    "```"
   ]
  },
  {
   "cell_type": "markdown",
   "metadata": {},
   "source": [
    "## Font Size"
   ]
  },
  {
   "cell_type": "markdown",
   "metadata": {},
   "source": [
    "Font size is controlled by the 'font-size' CSS property:"
   ]
  },
  {
   "cell_type": "markdown",
   "metadata": {},
   "source": [
    "In CSS style block:\n",
    "```css\n",
    "h1 {\n",
    "    font-size: 30px;\n",
    "   }\n",
    "```\n",
    "Inline HTML:\n",
    "```html\n",
    "<h1 style='font-size: 30px;'>\n",
    "```"
   ]
  },
  {
   "cell_type": "markdown",
   "metadata": {},
   "source": [
    "## Font Family"
   ]
  },
  {
   "cell_type": "markdown",
   "metadata": {},
   "source": [
    "Font is controlled by 'font-family' property"
   ]
  },
  {
   "cell_type": "markdown",
   "metadata": {},
   "source": [
    "In CSS Style Block:\n",
    "```css\n",
    "h2 {\n",
    "    font-family:sans-serif;\n",
    "  }\n",
    "```\n",
    "Inline HTML:\n",
    "```html\n",
    "<h1 style='font-family: sans-serif;'>\n",
    "```"
   ]
  },
  {
   "cell_type": "markdown",
   "metadata": {},
   "source": [
    "### Backup font"
   ]
  },
  {
   "cell_type": "markdown",
   "metadata": {},
   "source": [
    "If desired font is unavailable, a backup font can be specified:\n",
    "```css\n",
    "h2 {\n",
    "    font-family: sans-serif, Helvetica; \n",
    "  }\n",
    "```"
   ]
  },
  {
   "cell_type": "markdown",
   "metadata": {},
   "source": [
    "## Element Width"
   ]
  },
  {
   "cell_type": "markdown",
   "metadata": {},
   "source": [
    "CSS property 'width' controls an element's width:\n",
    "```html\n",
    "<style>\n",
    "    .larger-image {\n",
    "        width: 500px;\n",
    "    }\n",
    "</style>\n",
    "```"
   ]
  },
  {
   "cell_type": "markdown",
   "metadata": {},
   "source": [
    "## Borders"
   ]
  },
  {
   "cell_type": "markdown",
   "metadata": {},
   "source": [
    "CSS border properties:\n",
    "\n",
    "`border-style` (e.g. solid, dotted, dashed etc)\n",
    "\n",
    "`border-color` \n",
    "\n",
    "`border-width` (2px, 10px, medium, thick)\n",
    "\n",
    "`border-radius` (rounds out border, in px or %)\n"
   ]
  },
  {
   "cell_type": "markdown",
   "metadata": {},
   "source": [
    "E.g.\n",
    "```html\n",
    "<style>\n",
    "    .thin-red-border {\n",
    "        border-color: red;\n",
    "        border-width: 5px;\n",
    "        border-style: solid;\n",
    "        border-radius: 50%;\n",
    "    }\n",
    "</style>\n",
    "```"
   ]
  },
  {
   "cell_type": "markdown",
   "metadata": {},
   "source": [
    "## Background colour"
   ]
  },
  {
   "cell_type": "markdown",
   "metadata": {},
   "source": [
    "background-color - Sets element's background colour.\n",
    "\n",
    "Body background colour is the page's background colour"
   ]
  },
  {
   "cell_type": "markdown",
   "metadata": {},
   "source": [
    "```html\n",
    "<style>\n",
    "    .green-background {\n",
    "        background-color: green;\n",
    "    }\n",
    "</style>\n",
    "```"
   ]
  },
  {
   "cell_type": "markdown",
   "metadata": {},
   "source": [
    "## ID Attribute"
   ]
  },
  {
   "cell_type": "markdown",
   "metadata": {},
   "source": [
    "Used to identify single element\n",
    "Higher importance than class (outranks class if both stylings applied to element)"
   ]
  },
  {
   "cell_type": "markdown",
   "metadata": {},
   "source": []
  },
  {
   "cell_type": "markdown",
   "metadata": {},
   "source": [
    "How to make a styling for a specific id:\n",
    "```html\n",
    "<style>\n",
    "    #cat-photo {\n",
    "        background-color: green;\n",
    "    }\n",
    "</style>\n",
    "```"
   ]
  },
  {
   "cell_type": "markdown",
   "metadata": {},
   "source": [
    "## Padding, margins and borders"
   ]
  },
  {
   "cell_type": "markdown",
   "metadata": {},
   "source": [
    "Space around elements is controlled by the padding, margin and borders."
   ]
  },
  {
   "cell_type": "markdown",
   "metadata": {},
   "source": [
    "### Padding"
   ]
  },
  {
   "cell_type": "markdown",
   "metadata": {},
   "source": [
    "Padding - Controls the amount of space between the element's content and its border"
   ]
  },
  {
   "cell_type": "markdown",
   "metadata": {},
   "source": [
    "Can also control the padding on each individual side of an element:\n",
    "\n",
    "`padding-top`\n",
    "\n",
    "`padding-right`\n",
    "\n",
    "`padding-bottom`\n",
    "\n",
    "`padding-left`"
   ]
  },
  {
   "cell_type": "markdown",
   "metadata": {},
   "source": [
    "Can change all in one line:\n",
    "```css\n",
    "padding: 10px 20px 20px 10px;\n",
    "```"
   ]
  },
  {
   "cell_type": "markdown",
   "metadata": {},
   "source": [
    "### Margin"
   ]
  },
  {
   "cell_type": "markdown",
   "metadata": {},
   "source": [
    "Margin - Controls the space between the border and the surrounding elements.\n",
    "\n",
    "If you set element's margin to negative value, the element grows larger."
   ]
  },
  {
   "cell_type": "markdown",
   "metadata": {},
   "source": [
    "Can also control the padding on each individual side of an element:\n",
    "\n",
    "`margin-top`\n",
    "\n",
    "`margin-right`\n",
    "\n",
    "`margin-bottom`\n",
    "\n",
    "`margin-left`"
   ]
  },
  {
   "cell_type": "markdown",
   "metadata": {},
   "source": [
    "Can change all in one line\n",
    "```css\n",
    "margin: 10px 20px 20px 10px;\n",
    "```"
   ]
  },
  {
   "cell_type": "markdown",
   "metadata": {},
   "source": [
    "## CSS Selectors"
   ]
  },
  {
   "cell_type": "markdown",
   "metadata": {},
   "source": [
    "<h4>Attributes</h4>"
   ]
  },
  {
   "cell_type": "markdown",
   "metadata": {},
   "source": [
    "`[attr=value]` - Styling elements based on attribute value:\n",
    "E.g.\n",
    "```css\n",
    "<style>\n",
    "    [type='checkbox'] {\n",
    "    margin-top: 10px;\n",
    "    margin-right: 10px;\n",
    "   }\n",
    "</style>\n",
    "```"
   ]
  },
  {
   "cell_type": "markdown",
   "metadata": {},
   "source": [
    "<h3>Absolute vs Relative</h3>"
   ]
  },
  {
   "cell_type": "markdown",
   "metadata": {},
   "source": [
    "Absolute - ties to physical units of length e.g. mm, px etc.\n",
    "\n",
    "Relative - 'em' or 'rem', relative to another length value\n",
    "\n",
    "em - based on size of element's font (e.g. padding: 1.5em)"
   ]
  },
  {
   "cell_type": "markdown",
   "metadata": {},
   "source": [
    "<h3>Inheritance</h3>"
   ]
  },
  {
   "cell_type": "markdown",
   "metadata": {},
   "source": [
    "Every HTML page has a body element\n",
    "```css\n",
    "  body {\n",
    "    background-color: black;\n",
    "    color: green;\n",
    "    font-family: monospace;\n",
    "    }\n",
    "```\n",
    "All other elements will inherit body element's styles."
   ]
  },
  {
   "cell_type": "markdown",
   "metadata": {},
   "source": [
    "<h4>Overrides</h4>"
   ]
  },
  {
   "cell_type": "markdown",
   "metadata": {},
   "source": [
    "**Class styling overrides inherited styling** from parent tags.\n",
    "\n",
    "Order of class declarations inmportant - second declaration will take precedence over first. \n",
    "\n",
    "In this example, the text will be blue because the blue class was declared second.\n",
    "E.g.\n",
    "```css\n",
    "  .pink-text {\n",
    "    color: pink;\n",
    "  }\n",
    "  .blue-text {\n",
    "    color: blue;\n",
    "  }\n",
    "```"
   ]
  },
  {
   "cell_type": "markdown",
   "metadata": {},
   "source": [
    "**ID styling will override class styling**, regardless of order.\n",
    "```css\n",
    "#orange-text {\n",
    "    color: orange;\n",
    "   }\n",
    "```"
   ]
  },
  {
   "cell_type": "markdown",
   "metadata": {},
   "source": [
    "**Inline styles will overwrite all CSS in the style block**\n",
    "```css\n",
    "<h1 class='blue-text' style='color: red'>\n",
    "```\n",
    "Text will be red."
   ]
  },
  {
   "cell_type": "markdown",
   "metadata": {},
   "source": [
    "**!important keyword will overwrite everything else**\n",
    "```css\n",
    ".pink-text {\n",
    "    color: pink !important;\n",
    "    }\n",
    "```"
   ]
  },
  {
   "cell_type": "markdown",
   "metadata": {},
   "source": [
    "In order of importance:\n",
    "\n",
    "`!important > inline > id > class > inheritance`"
   ]
  },
  {
   "cell_type": "markdown",
   "metadata": {},
   "source": [
    "## Colours, Hexadecimal Code and RBG"
   ]
  },
  {
   "cell_type": "markdown",
   "metadata": {},
   "source": [
    "### Hexadecimal"
   ]
  },
  {
   "cell_type": "markdown",
   "metadata": {},
   "source": [
    "Base 16 instead of base 10\n",
    "\n",
    "0123456789ABCDEF is 0-15\n",
    "\n",
    "0 is lowest value (no colour), F is max (max brightness)"
   ]
  },
  {
   "cell_type": "markdown",
   "metadata": {},
   "source": [
    "6 hex digits represent colours - 2 for red, 2 for green, 2 for blue"
   ]
  },
  {
   "cell_type": "markdown",
   "metadata": {},
   "source": [
    "E.g.\n",
    "```css\n",
    "color: #000000\n",
    "```\n",
    "`#000000` is black\n",
    "\n",
    "`#FFA500` - Orange\n",
    "\n",
    "`#00FF00` - Green\n",
    "\n",
    "`#FF0000` - Red\n",
    "\n",
    "`#0000FF` - Blue"
   ]
  },
  {
   "cell_type": "markdown",
   "metadata": {},
   "source": [
    "Hex code can be shortened - one digit for each colour\n",
    "\n",
    "`#F00` - Red\n",
    "\n",
    "`#0F0` - Green\n",
    "\n",
    "`#00F` - Blue"
   ]
  },
  {
   "cell_type": "markdown",
   "metadata": {},
   "source": [
    "### RGB"
   ]
  },
  {
   "cell_type": "markdown",
   "metadata": {},
   "source": [
    "E.g.\n",
    "```css\n",
    "color: rgb(0, 0, 0)\n",
    "```\n",
    "\n",
    "`rgb(0, 0, 0)` - black\n",
    "\n",
    "`rgb(255, 255, 255)` - white\n",
    "\n"
   ]
  },
  {
   "cell_type": "markdown",
   "metadata": {},
   "source": [
    "## CSS Variables"
   ]
  },
  {
   "cell_type": "markdown",
   "metadata": {},
   "source": [
    "A specific value that can be used repeatedly within a document."
   ]
  },
  {
   "cell_type": "markdown",
   "metadata": {},
   "source": [
    "They are defined using custom property notation: `--` and a name `main-text-color`"
   ]
  },
  {
   "cell_type": "markdown",
   "metadata": {},
   "source": [
    "```css\n",
    ":root {\n",
    "    --main-text-color: brown;\n",
    "}\n",
    "```\n",
    "\n",
    "Defining the variable in the root psuedo-class allows it to be applied globally."
   ]
  },
  {
   "cell_type": "markdown",
   "metadata": {},
   "source": [
    "Use the variable by naming it inside the `var()` function:"
   ]
  },
  {
   "cell_type": "markdown",
   "metadata": {},
   "source": [
    "E.g.\n",
    "```css\n",
    "p {\n",
    "    color: var(main-text-color);\n",
    "}\n",
    "```"
   ]
  },
  {
   "cell_type": "markdown",
   "metadata": {},
   "source": [
    "<style>\n",
    "    :root {\n",
    "        --penguin-belly: pink;\n",
    "    }\n",
    "\n",
    "Can be overwritten by setting value within specific selector"
   ]
  }
 ],
 "metadata": {
  "kernelspec": {
   "display_name": "Python 3",
   "language": "python",
   "name": "python3"
  },
  "language_info": {
   "codemirror_mode": {
    "name": "ipython",
    "version": 3
   },
   "file_extension": ".py",
   "mimetype": "text/x-python",
   "name": "python",
   "nbconvert_exporter": "python",
   "pygments_lexer": "ipython3",
   "version": "3.8.2"
  }
 },
 "nbformat": 4,
 "nbformat_minor": 4
}
